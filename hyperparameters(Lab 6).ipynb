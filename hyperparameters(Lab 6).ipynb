{
 "cells": [
  {
   "cell_type": "markdown",
   "metadata": {
    "id": "g-YOLWa7AHx4"
   },
   "source": [
    "<p style=\"font-family: Arial; font-size:3em;color:black;\">Lab Exercise 6</p>"
   ]
  },
  {
   "cell_type": "markdown",
   "metadata": {
    "id": "-WQjIkURAHx9"
   },
   "source": []
  },
  {
   "cell_type": "markdown",
   "metadata": {
    "id": "muR6Q0UsAHx-"
   },
   "source": [
    "# Common Values\n",
    "For the following exercises, these values variables to avoid repetition:\n",
    "- global_random_state (random_state)\n",
    "- global_test_size (test_size)"
   ]
  },
  {
   "cell_type": "code",
   "execution_count": null,
   "metadata": {
    "ExecuteTime": {
     "end_time": "2024-01-24T22:59:21.866581600Z",
     "start_time": "2024-01-24T22:59:21.700604200Z"
    },
    "id": "Glu87TlwAHx-"
   },
   "outputs": [],
   "source": [
    "global_random_state = 42\n",
    "global_test_size = 0.3"
   ]
  },
  {
   "cell_type": "markdown",
   "metadata": {
    "id": "Ddp209keAHx_"
   },
   "source": [
    "# Installations and imports"
   ]
  },
  {
   "cell_type": "code",
   "execution_count": null,
   "metadata": {
    "ExecuteTime": {
     "end_time": "2024-01-24T22:59:21.969107500Z",
     "start_time": "2024-01-24T22:59:21.874626100Z"
    },
    "id": "WwyD10PCAHx_"
   },
   "outputs": [],
   "source": [
    "# you can download the original Kyphosis dataset from kaggle at https://www.kaggle.com/abbasit/kyphosis-dataset?select=kyphosis.csv\n",
    "\n",
    "import pandas as pd\n",
    "from sklearn.tree import DecisionTreeClassifier\n",
    "%matplotlib inline"
   ]
  },
  {
   "cell_type": "code",
   "execution_count": null,
   "metadata": {
    "ExecuteTime": {
     "end_time": "2024-01-24T22:59:21.999202200Z",
     "start_time": "2024-01-24T22:59:21.977245500Z"
    },
    "id": "0AEcYGSRAHyA"
   },
   "outputs": [],
   "source": [
    "Kyphosis_df = pd.read_csv('./dataset/kyphosis.csv')"
   ]
  },
  {
   "cell_type": "code",
   "execution_count": null,
   "metadata": {
    "ExecuteTime": {
     "end_time": "2024-01-24T22:59:22.060097900Z",
     "start_time": "2024-01-24T22:59:22.006091200Z"
    },
    "id": "_KpUvgVKAHyA"
   },
   "outputs": [],
   "source": [
    "from sklearn.model_selection import train_test_split"
   ]
  },
  {
   "cell_type": "code",
   "execution_count": null,
   "metadata": {
    "ExecuteTime": {
     "end_time": "2024-01-24T22:59:22.082890900Z",
     "start_time": "2024-01-24T22:59:22.064510100Z"
    },
    "id": "2814mTBAAHyB"
   },
   "outputs": [],
   "source": [
    "X = Kyphosis_df.drop('Kyphosis',axis=1)\n",
    "y = Kyphosis_df['Kyphosis']"
   ]
  },
  {
   "cell_type": "code",
   "execution_count": null,
   "metadata": {
    "ExecuteTime": {
     "end_time": "2024-01-24T22:59:22.137237400Z",
     "start_time": "2024-01-24T22:59:22.086480800Z"
    },
    "id": "E_Z7U7KEAHyB"
   },
   "outputs": [],
   "source": [
    "X_train, X_test, y_train, y_test = train_test_split(X, y, test_size=global_test_size)"
   ]
  },
  {
   "cell_type": "code",
   "execution_count": null,
   "metadata": {
    "ExecuteTime": {
     "end_time": "2024-01-24T22:59:22.151322600Z",
     "start_time": "2024-01-24T22:59:22.111363300Z"
    },
    "id": "rMywDNMDAHyB",
    "outputId": "16f82345-3b33-4676-a008-134cfb60f5ef"
   },
   "outputs": [
    {
     "data": {
      "text/plain": [
       "\"\\nDecisionTreeClassifier(\\n    criterion='gini',\\n    splitter='best',\\n    max_depth=None,\\n    min_samples_split=2,\\n    min_samples_leaf=1,\\n    min_weight_fraction_leaf=0.0,\\n    max_features=None,\\n    random_state=None,\\n    max_leaf_nodes=None,\\n    min_impurity_decrease=0.0,\\n    min_impurity_split=None,\\n    class_weight=None,\\n    presort=False,\\n)\\n\""
      ]
     },
     "execution_count": 51,
     "metadata": {},
     "output_type": "execute_result"
    }
   ],
   "source": [
    "# selecting the right \"parameters/hyperparameters of ML models can significantly affect their performance\".\n",
    "# let's begin exploring those parameters more for a DT model.\n",
    "'''\n",
    "DecisionTreeClassifier(\n",
    "    criterion='gini',\n",
    "    splitter='best',\n",
    "    max_depth=None,\n",
    "    min_samples_split=2,\n",
    "    min_samples_leaf=1,\n",
    "    min_weight_fraction_leaf=0.0,\n",
    "    max_features=None,\n",
    "    random_state=None,\n",
    "    max_leaf_nodes=None,\n",
    "    min_impurity_decrease=0.0,\n",
    "    min_impurity_split=None,\n",
    "    class_weight=None,\n",
    "    presort=False,\n",
    ")\n",
    "'''\n",
    "# Let's consider these three parameters: criterion, splitter, min_samples_split\n",
    "    # for parameters consider two cases 'gini' and 'entropy'\n",
    "    # for splitter consider two cases 'best' and 'random'\n",
    "    # for min_samples_split consider two cases 2 and 5\n",
    "    # explain and discuss your findings"
   ]
  },
  {
   "cell_type": "markdown",
   "metadata": {
    "id": "BE1QFuHlAHyC"
   },
   "source": [
    "# Solution"
   ]
  },
  {
   "cell_type": "markdown",
   "metadata": {
    "id": "MKCwEoc-AHyC"
   },
   "source": [
    "## For criterion using 'gini' and 'entropy'"
   ]
  },
  {
   "cell_type": "code",
   "execution_count": null,
   "metadata": {
    "ExecuteTime": {
     "end_time": "2024-01-24T22:59:22.226513500Z",
     "start_time": "2024-01-24T22:59:22.155939100Z"
    },
    "id": "ki5NSpujAHyC",
    "outputId": "92430a9a-4199-4ce0-ba7a-6cc2ad73b1d1"
   },
   "outputs": [
    {
     "name": "stdout",
     "output_type": "stream",
     "text": [
      "Criterion: gini, Accuracy: 0.88\n",
      "Criterion: entropy, Accuracy: 0.8\n"
     ]
    }
   ],
   "source": [
    "criteria_values = ['gini', 'entropy']\n",
    "\n",
    "for criterion in criteria_values:\n",
    "    model = DecisionTreeClassifier(criterion=criterion, random_state=global_random_state)\n",
    "    model.fit(X_train, y_train)\n",
    "    accuracy = model.score(X_test, y_test)\n",
    "\n",
    "    print(f\"Criterion: {criterion}, Accuracy: {accuracy}\")"
   ]
  },
  {
   "cell_type": "markdown",
   "metadata": {
    "id": "7BnSryneAHyC"
   },
   "source": [
    "## For splitter using 'best' and 'random'"
   ]
  },
  {
   "cell_type": "code",
   "execution_count": null,
   "metadata": {
    "ExecuteTime": {
     "end_time": "2024-01-24T22:59:22.291023700Z",
     "start_time": "2024-01-24T22:59:22.211715400Z"
    },
    "id": "j214_dvIAHyD",
    "outputId": "f5941450-b443-4006-c77d-d783f2200193"
   },
   "outputs": [
    {
     "name": "stdout",
     "output_type": "stream",
     "text": [
      "Splitter: best, Accuracy: 0.88\n",
      "Splitter: random, Accuracy: 0.88\n"
     ]
    }
   ],
   "source": [
    "splitter_values = ['best', 'random']\n",
    "\n",
    "for splitter in splitter_values:\n",
    "    model = DecisionTreeClassifier(splitter=splitter, random_state=global_random_state)\n",
    "    model.fit(X_train, y_train)\n",
    "    accuracy = model.score(X_test, y_test)\n",
    "\n",
    "    print(f\"Splitter: {splitter}, Accuracy: {accuracy}\")"
   ]
  },
  {
   "cell_type": "markdown",
   "metadata": {
    "id": "1c2dQkSrAHyD"
   },
   "source": [
    "## For min_samples_split using 2 and 5"
   ]
  },
  {
   "cell_type": "code",
   "execution_count": null,
   "metadata": {
    "ExecuteTime": {
     "end_time": "2024-01-24T22:59:22.360877700Z",
     "start_time": "2024-01-24T22:59:22.278821900Z"
    },
    "id": "fUk6Q4TeAHyD",
    "outputId": "88322c93-a05e-4c54-856d-3e153a76e8fd"
   },
   "outputs": [
    {
     "name": "stdout",
     "output_type": "stream",
     "text": [
      "Min samples split: 2, Accuracy: 0.88\n",
      "Min samples split: 5, Accuracy: 0.84\n"
     ]
    }
   ],
   "source": [
    "min_samples_split_values = [2, 5]\n",
    "\n",
    "for min_samples_split in min_samples_split_values:\n",
    "    model = DecisionTreeClassifier(min_samples_split=min_samples_split, random_state=global_random_state)\n",
    "    model.fit(X_train, y_train)\n",
    "    accuracy = model.score(X_test, y_test)\n",
    "\n",
    "    print(f\"Min samples split: {min_samples_split}, Accuracy: {accuracy}\")"
   ]
  },
  {
   "cell_type": "markdown",
   "metadata": {
    "id": "EEut1FqRAHyD"
   },
   "source": [
    "## Initial conclusion\n",
    "\n",
    "Based on the results, we could see how the accuracy changes depending on the parameters.\n",
    "\n",
    " For example, the accuracy is higher when we use the criterion 'gini' instead of 'entropy'. Also, the accuracy is higher when we use the splitter 'best' than when we use 'random'. Finally, the accuracy is the same when we use the min_samples_split 2 and 5.\n",
    "\n",
    " Of course, we could change the random_state and the test_size to see if the accuracy changes, but we will keep these values for the next exercises.\n",
    "\n",
    "### Permutation of parameters\n",
    "\n",
    "While we were doing these exercises, we had the doubt of how these parameters, combined, would affect the accuracy. So, we decided to also do a permutation of all the parameters to see if the accuracy changes.\n",
    "\n",
    "### Calculation of the accuracy\n",
    "We didn't know for sure what method was used by the model.score function, so we decided to do the calculation manually using the confusion_matrix function, just in case (this probably we could have checked in the documentation, but we didn't think about it at the moment).\n",
    "\n",
    "## Results for using the confusion matrix vs the score method\n",
    "At the end, it appears that the result is the same, so we can use the score method to calculate the accuracy as well instead of using the confusion_matrix function.\n",
    "\n",
    "After running the code, we could say that the calculated accuracy was the same. Later on, we found on google that the formula used by the score method is the same as the one used by the confusion_matrix function.\n",
    "\n",
    "The accuracy for the score method is calculated as follows:\n",
    "$$accuracy=\\frac{Total Number of Predictions}{Number of Correct Predictions}$$\n",
    "\n",
    "While the one used by the confusion_matrix function is calculated as follows:\n",
    "$$accuracy=\\frac{TP+TN}{TP+TN+FP+FN}$$\n",
    "\n",
    "where:\n",
    "- TP = True Positive\n",
    "- TN = True Negative\n",
    "- FP = False Positive\n",
    "- FN = False Negative"
   ]
  },
  {
   "cell_type": "markdown",
   "metadata": {
    "id": "T8Jp50P3AHyD"
   },
   "source": [
    "# Permutation of parameters\n",
    "The following cell displays how we did the permutation of the parameters to see if the accuracy changes. Later on we display the results on a dataframe.\n",
    "Here we use the score method to calculate the accuracy (and it is here that we had the doubt of how the score method calculates the accuracy)"
   ]
  },
  {
   "cell_type": "code",
   "execution_count": null,
   "metadata": {
    "ExecuteTime": {
     "end_time": "2024-01-24T22:59:22.411159900Z",
     "start_time": "2024-01-24T22:59:22.304136Z"
    },
    "id": "DV2uPoaGAHyD",
    "outputId": "e54ff001-eda4-4299-bf1f-53c558f8f984"
   },
   "outputs": [
    {
     "data": {
      "text/html": [
       "<div>\n",
       "<style scoped>\n",
       "    .dataframe tbody tr th:only-of-type {\n",
       "        vertical-align: middle;\n",
       "    }\n",
       "\n",
       "    .dataframe tbody tr th {\n",
       "        vertical-align: top;\n",
       "    }\n",
       "\n",
       "    .dataframe thead th {\n",
       "        text-align: right;\n",
       "    }\n",
       "</style>\n",
       "<table border=\"1\" class=\"dataframe\">\n",
       "  <thead>\n",
       "    <tr style=\"text-align: right;\">\n",
       "      <th></th>\n",
       "      <th>criterion</th>\n",
       "      <th>splitter</th>\n",
       "      <th>min_samples_split</th>\n",
       "      <th>accuracy</th>\n",
       "    </tr>\n",
       "  </thead>\n",
       "  <tbody>\n",
       "    <tr>\n",
       "      <th>0</th>\n",
       "      <td>gini</td>\n",
       "      <td>best</td>\n",
       "      <td>2</td>\n",
       "      <td>0.88</td>\n",
       "    </tr>\n",
       "    <tr>\n",
       "      <th>1</th>\n",
       "      <td>gini</td>\n",
       "      <td>best</td>\n",
       "      <td>5</td>\n",
       "      <td>0.84</td>\n",
       "    </tr>\n",
       "    <tr>\n",
       "      <th>2</th>\n",
       "      <td>gini</td>\n",
       "      <td>random</td>\n",
       "      <td>2</td>\n",
       "      <td>0.88</td>\n",
       "    </tr>\n",
       "    <tr>\n",
       "      <th>3</th>\n",
       "      <td>gini</td>\n",
       "      <td>random</td>\n",
       "      <td>5</td>\n",
       "      <td>0.72</td>\n",
       "    </tr>\n",
       "    <tr>\n",
       "      <th>4</th>\n",
       "      <td>entropy</td>\n",
       "      <td>best</td>\n",
       "      <td>2</td>\n",
       "      <td>0.80</td>\n",
       "    </tr>\n",
       "    <tr>\n",
       "      <th>5</th>\n",
       "      <td>entropy</td>\n",
       "      <td>best</td>\n",
       "      <td>5</td>\n",
       "      <td>0.84</td>\n",
       "    </tr>\n",
       "    <tr>\n",
       "      <th>6</th>\n",
       "      <td>entropy</td>\n",
       "      <td>random</td>\n",
       "      <td>2</td>\n",
       "      <td>0.88</td>\n",
       "    </tr>\n",
       "    <tr>\n",
       "      <th>7</th>\n",
       "      <td>entropy</td>\n",
       "      <td>random</td>\n",
       "      <td>5</td>\n",
       "      <td>0.72</td>\n",
       "    </tr>\n",
       "  </tbody>\n",
       "</table>\n",
       "</div>"
      ],
      "text/plain": [
       "  criterion splitter  min_samples_split  accuracy\n",
       "0      gini     best                  2      0.88\n",
       "1      gini     best                  5      0.84\n",
       "2      gini   random                  2      0.88\n",
       "3      gini   random                  5      0.72\n",
       "4   entropy     best                  2      0.80\n",
       "5   entropy     best                  5      0.84\n",
       "6   entropy   random                  2      0.88\n",
       "7   entropy   random                  5      0.72"
      ]
     },
     "execution_count": 55,
     "metadata": {},
     "output_type": "execute_result"
    }
   ],
   "source": [
    "results = []\n",
    "for criterion in criteria_values:\n",
    "    for splitter in splitter_values:\n",
    "        for min_samples_split in min_samples_split_values:\n",
    "            model = DecisionTreeClassifier(criterion=criterion, splitter=splitter, min_samples_split=min_samples_split, random_state=global_random_state)\n",
    "            model.fit(X_train, y_train)\n",
    "            accuracy = model.score(X_test, y_test) # We use the score method to calculate the accuracy initially\n",
    "            results.append([criterion, splitter, min_samples_split, accuracy])\n",
    "\n",
    "results_df = pd.DataFrame(results, columns=['criterion', 'splitter', 'min_samples_split', 'accuracy'])\n",
    "results_df"
   ]
  },
  {
   "cell_type": "markdown",
   "metadata": {
    "id": "y1iWU5egAHyE"
   },
   "source": [
    "# Calculation of the accuracy"
   ]
  },
  {
   "cell_type": "markdown",
   "metadata": {
    "id": "kgzgEle0AHyE"
   },
   "source": [
    "## Using the confusion matrix\n",
    "Just mentioned above, we repeated the exercise using the confusion matrix to calculate the accuracy. We did this to see if the accuracy was the same as the one calculated using the score method. Which it was."
   ]
  },
  {
   "cell_type": "markdown",
   "metadata": {
    "id": "e4lEwEiSAHyE"
   },
   "source": []
  },
  {
   "cell_type": "code",
   "execution_count": null,
   "metadata": {
    "ExecuteTime": {
     "end_time": "2024-01-24T22:59:22.504308600Z",
     "start_time": "2024-01-24T22:59:22.384114400Z"
    },
    "id": "-H3SuEypAHyE",
    "outputId": "d8e783dc-4270-472d-9c05-80aabc53a279"
   },
   "outputs": [
    {
     "data": {
      "text/html": [
       "<div>\n",
       "<style scoped>\n",
       "    .dataframe tbody tr th:only-of-type {\n",
       "        vertical-align: middle;\n",
       "    }\n",
       "\n",
       "    .dataframe tbody tr th {\n",
       "        vertical-align: top;\n",
       "    }\n",
       "\n",
       "    .dataframe thead th {\n",
       "        text-align: right;\n",
       "    }\n",
       "</style>\n",
       "<table border=\"1\" class=\"dataframe\">\n",
       "  <thead>\n",
       "    <tr style=\"text-align: right;\">\n",
       "      <th></th>\n",
       "      <th>criterion</th>\n",
       "      <th>splitter</th>\n",
       "      <th>min_samples_split</th>\n",
       "      <th>accuracy</th>\n",
       "    </tr>\n",
       "  </thead>\n",
       "  <tbody>\n",
       "    <tr>\n",
       "      <th>0</th>\n",
       "      <td>gini</td>\n",
       "      <td>best</td>\n",
       "      <td>2</td>\n",
       "      <td>0.88</td>\n",
       "    </tr>\n",
       "    <tr>\n",
       "      <th>1</th>\n",
       "      <td>gini</td>\n",
       "      <td>best</td>\n",
       "      <td>5</td>\n",
       "      <td>0.84</td>\n",
       "    </tr>\n",
       "    <tr>\n",
       "      <th>2</th>\n",
       "      <td>gini</td>\n",
       "      <td>random</td>\n",
       "      <td>2</td>\n",
       "      <td>0.88</td>\n",
       "    </tr>\n",
       "    <tr>\n",
       "      <th>3</th>\n",
       "      <td>gini</td>\n",
       "      <td>random</td>\n",
       "      <td>5</td>\n",
       "      <td>0.72</td>\n",
       "    </tr>\n",
       "    <tr>\n",
       "      <th>4</th>\n",
       "      <td>entropy</td>\n",
       "      <td>best</td>\n",
       "      <td>2</td>\n",
       "      <td>0.80</td>\n",
       "    </tr>\n",
       "    <tr>\n",
       "      <th>5</th>\n",
       "      <td>entropy</td>\n",
       "      <td>best</td>\n",
       "      <td>5</td>\n",
       "      <td>0.84</td>\n",
       "    </tr>\n",
       "    <tr>\n",
       "      <th>6</th>\n",
       "      <td>entropy</td>\n",
       "      <td>random</td>\n",
       "      <td>2</td>\n",
       "      <td>0.88</td>\n",
       "    </tr>\n",
       "    <tr>\n",
       "      <th>7</th>\n",
       "      <td>entropy</td>\n",
       "      <td>random</td>\n",
       "      <td>5</td>\n",
       "      <td>0.72</td>\n",
       "    </tr>\n",
       "  </tbody>\n",
       "</table>\n",
       "</div>"
      ],
      "text/plain": [
       "  criterion splitter  min_samples_split  accuracy\n",
       "0      gini     best                  2      0.88\n",
       "1      gini     best                  5      0.84\n",
       "2      gini   random                  2      0.88\n",
       "3      gini   random                  5      0.72\n",
       "4   entropy     best                  2      0.80\n",
       "5   entropy     best                  5      0.84\n",
       "6   entropy   random                  2      0.88\n",
       "7   entropy   random                  5      0.72"
      ]
     },
     "execution_count": 56,
     "metadata": {},
     "output_type": "execute_result"
    }
   ],
   "source": [
    "from sklearn.metrics import confusion_matrix\n",
    "results = []\n",
    "for criterion in criteria_values:\n",
    "    for splitter in splitter_values:\n",
    "        for min_samples_split in min_samples_split_values:\n",
    "            model = DecisionTreeClassifier(criterion=criterion, splitter=splitter, min_samples_split=min_samples_split, random_state=global_random_state)\n",
    "            model.fit(X_train, y_train)\n",
    "            predictions = model.predict(X_test)\n",
    "            cm = confusion_matrix(y_test, predictions)\n",
    "            accuracy = cm.diagonal().sum() / cm.sum()\n",
    "            results.append([criterion, splitter, min_samples_split, accuracy])\n",
    "\n",
    "# We print the results list as a dataframe\n",
    "results_df = pd.DataFrame(results, columns=['criterion', 'splitter', 'min_samples_split', 'accuracy'])\n",
    "results_df"
   ]
  },
  {
   "cell_type": "markdown",
   "metadata": {
    "id": "oW6_50q6AHyE"
   },
   "source": [
    "At the end, the results are the same, so we can use the score method to calculate the accuracy as well."
   ]
  }
 ],
 "metadata": {
  "colab": {
   "provenance": []
  },
  "kernelspec": {
   "display_name": "Python 3 (ipykernel)",
   "language": "python",
   "name": "python3"
  },
  "language_info": {
   "codemirror_mode": {
    "name": "ipython",
    "version": 3
   },
   "file_extension": ".py",
   "mimetype": "text/x-python",
   "name": "python",
   "nbconvert_exporter": "python",
   "pygments_lexer": "ipython3",
   "version": "3.9.13"
  }
 },
 "nbformat": 4,
 "nbformat_minor": 1
}
