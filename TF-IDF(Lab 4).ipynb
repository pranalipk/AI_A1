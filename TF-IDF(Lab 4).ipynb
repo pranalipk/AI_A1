{
 "cells": [
  {
   "cell_type": "markdown",
   "id": "186188d6ffeac9f3",
   "metadata": {
    "id": "186188d6ffeac9f3"
   },
   "source": [
    "## <p style=\"font-family: Arial; font-size:3em;color:black;\"> Lab Exercise 4 </p>"
   ]
  },
  {
   "cell_type": "markdown",
   "id": "6d6bd93157b2519e",
   "metadata": {
    "id": "6d6bd93157b2519e"
   },
   "source": [
    "# Installations and imports"
   ]
  },
  {
   "cell_type": "markdown",
   "id": "4cc9e444092d61c1",
   "metadata": {
    "id": "4cc9e444092d61c1"
   },
   "source": [
    "## Installations"
   ]
  },
  {
   "cell_type": "code",
   "execution_count": 1,
   "id": "f2e3706de72f21fe",
   "metadata": {
    "ExecuteTime": {
     "end_time": "2024-01-17T00:28:14.794977500Z",
     "start_time": "2024-01-17T00:28:10.039873600Z"
    },
    "colab": {
     "base_uri": "https://localhost:8080/"
    },
    "executionInfo": {
     "elapsed": 14919,
     "status": "ok",
     "timestamp": 1705520382211,
     "user": {
      "displayName": "Ricardo Poleo",
      "userId": "00511248826951706342"
     },
     "user_tz": 300
    },
    "id": "f2e3706de72f21fe",
    "outputId": "1002d35e-7b5b-464e-877b-da69413ddc9b"
   },
   "outputs": [
    {
     "name": "stdout",
     "output_type": "stream",
     "text": [
      "Requirement already satisfied: numpy in /usr/local/lib/python3.10/dist-packages (1.23.5)\n"
     ]
    }
   ],
   "source": [
    "!pip install numpy"
   ]
  },
  {
   "cell_type": "markdown",
   "id": "f322feb9aba20133",
   "metadata": {
    "id": "f322feb9aba20133"
   },
   "source": [
    "## Imports"
   ]
  },
  {
   "cell_type": "markdown",
   "id": "6f3456c4f0d60db2",
   "metadata": {
    "id": "6f3456c4f0d60db2"
   },
   "source": [
    "# Task 1: Calculate the bag of words (without TF-IDF, just word counts) matrix for the following 5 phrases.\n",
    "- college student\n",
    "- airport taxi driver\n",
    "- Toronto art museum\n",
    "- life art\n",
    "- machine learning student"
   ]
  },
  {
   "cell_type": "code",
   "execution_count": 2,
   "id": "initial_id",
   "metadata": {
    "ExecuteTime": {
     "end_time": "2024-01-17T00:28:14.828987600Z",
     "start_time": "2024-01-17T00:28:14.799977600Z"
    },
    "colab": {
     "base_uri": "https://localhost:8080/"
    },
    "collapsed": true,
    "executionInfo": {
     "elapsed": 7,
     "status": "ok",
     "timestamp": 1705520382211,
     "user": {
      "displayName": "Ricardo Poleo",
      "userId": "00511248826951706342"
     },
     "user_tz": 300
    },
    "id": "initial_id",
    "outputId": "2790f9cb-da85-4cce-d869-a4ea42af5209"
   },
   "outputs": [
    {
     "name": "stdout",
     "output_type": "stream",
     "text": [
      "phrases: ['college student', 'airport taxi driver', 'Toronto art museum', 'life art', 'machine learning student']\n",
      "words: [['college', 'student'], ['airport', 'taxi', 'driver'], ['Toronto', 'art', 'museum'], ['life', 'art'], ['machine', 'learning', 'student']]\n"
     ]
    }
   ],
   "source": [
    "import numpy as np\n",
    "\n",
    "# Define the list of phrases\n",
    "phrases = [\n",
    "     \"college student\",\n",
    "     \"airport taxi driver\",\n",
    "     \"Toronto art museum\",\n",
    "     \"life art\",\n",
    "     \"machine learning student\"\n",
    "]\n",
    "print(f'phrases: {phrases}')\n",
    "\n",
    "words = [phrase.split() for phrase in phrases]\n",
    "print(f'words: {words}')"
   ]
  },
  {
   "cell_type": "code",
   "execution_count": 3,
   "id": "47468383f3297e66",
   "metadata": {
    "ExecuteTime": {
     "end_time": "2024-01-17T00:28:14.830493100Z",
     "start_time": "2024-01-17T00:28:14.814979800Z"
    },
    "colab": {
     "base_uri": "https://localhost:8080/"
    },
    "executionInfo": {
     "elapsed": 5,
     "status": "ok",
     "timestamp": 1705520382211,
     "user": {
      "displayName": "Ricardo Poleo",
      "userId": "00511248826951706342"
     },
     "user_tz": 300
    },
    "id": "47468383f3297e66",
    "outputId": "98f7e2d9-1ea0-4972-d8b9-e8ecdf701388"
   },
   "outputs": [
    {
     "name": "stdout",
     "output_type": "stream",
     "text": [
      "raw vocabulary ['student', 'airport', 'taxi', 'museum', 'machine', 'driver', 'Toronto', 'art', 'learning', 'college', 'life']\n"
     ]
    }
   ],
   "source": [
    "raw_list = list(set([word for phrase in words for word in phrase]))\n",
    "print(f'raw vocabulary {raw_list}')"
   ]
  },
  {
   "cell_type": "code",
   "execution_count": 4,
   "id": "443584d5d0cacbb6",
   "metadata": {
    "ExecuteTime": {
     "end_time": "2024-01-17T00:28:14.890505Z",
     "start_time": "2024-01-17T00:28:14.828987600Z"
    },
    "colab": {
     "base_uri": "https://localhost:8080/"
    },
    "executionInfo": {
     "elapsed": 177,
     "status": "ok",
     "timestamp": 1705520382385,
     "user": {
      "displayName": "Ricardo Poleo",
      "userId": "00511248826951706342"
     },
     "user_tz": 300
    },
    "id": "443584d5d0cacbb6",
    "outputId": "1b0daa04-ca9f-414b-f3fc-bf329edc81e8"
   },
   "outputs": [
    {
     "name": "stdout",
     "output_type": "stream",
     "text": [
      "vocabulary: ['Toronto', 'airport', 'art', 'college', 'driver', 'learning', 'life', 'machine', 'museum', 'student', 'taxi']\n"
     ]
    }
   ],
   "source": [
    "vocabulary = sorted(raw_list)\n",
    "print(f'vocabulary: {vocabulary}')"
   ]
  },
  {
   "cell_type": "code",
   "execution_count": 5,
   "id": "486f99d1b0346ec4",
   "metadata": {
    "ExecuteTime": {
     "end_time": "2024-01-17T00:28:14.891535200Z",
     "start_time": "2024-01-17T00:28:14.847500600Z"
    },
    "colab": {
     "base_uri": "https://localhost:8080/"
    },
    "executionInfo": {
     "elapsed": 8,
     "status": "ok",
     "timestamp": 1705520382385,
     "user": {
      "displayName": "Ricardo Poleo",
      "userId": "00511248826951706342"
     },
     "user_tz": 300
    },
    "id": "486f99d1b0346ec4",
    "outputId": "7adbd8f0-70e1-4563-ecee-5e9840ccf2b4"
   },
   "outputs": [
    {
     "name": "stdout",
     "output_type": "stream",
     "text": [
      "Total of phrases 5\n",
      "Total of Unique words 11\n",
      "bag_of_words_matrix (init): \n",
      "[[0 0 0 0 0 0 0 0 0 0 0]\n",
      " [0 0 0 0 0 0 0 0 0 0 0]\n",
      " [0 0 0 0 0 0 0 0 0 0 0]\n",
      " [0 0 0 0 0 0 0 0 0 0 0]\n",
      " [0 0 0 0 0 0 0 0 0 0 0]]\n"
     ]
    }
   ],
   "source": [
    "total_phrases = len(phrases)\n",
    "print(f'Total of phrases {total_phrases}')\n",
    "total_words = len(vocabulary)\n",
    "print(f'Total of Unique words {total_words}')\n",
    "bag_of_words_matrix = np.zeros((total_phrases, total_words), dtype=int)\n",
    "print('bag_of_words_matrix (init): ')\n",
    "print(bag_of_words_matrix)"
   ]
  },
  {
   "cell_type": "code",
   "execution_count": 6,
   "id": "7816bfbc0d34ae61",
   "metadata": {
    "ExecuteTime": {
     "end_time": "2024-01-17T00:28:14.937727600Z",
     "start_time": "2024-01-17T00:28:14.861501600Z"
    },
    "colab": {
     "base_uri": "https://localhost:8080/"
    },
    "executionInfo": {
     "elapsed": 7,
     "status": "ok",
     "timestamp": 1705520382385,
     "user": {
      "displayName": "Ricardo Poleo",
      "userId": "00511248826951706342"
     },
     "user_tz": 300
    },
    "id": "7816bfbc0d34ae61",
    "outputId": "5e822c56-2001-4684-b6c9-ecd08241e43a"
   },
   "outputs": [
    {
     "name": "stdout",
     "output_type": "stream",
     "text": [
      "Enumerated phrases <enumerate object at 0x7909585989c0>\n"
     ]
    }
   ],
   "source": [
    "enumerated_phrases = enumerate(phrases)\n",
    "print(f'Enumerated phrases {enumerated_phrases}')\n",
    "\n",
    "for i, phrase in enumerated_phrases:\n",
    "    for word in phrase.split():\n",
    "        word_index = vocabulary.index(word)\n",
    "        bag_of_words_matrix[i, word_index] += 1"
   ]
  },
  {
   "cell_type": "code",
   "execution_count": 7,
   "id": "5fc0c67de7f382e8",
   "metadata": {
    "ExecuteTime": {
     "end_time": "2024-01-17T00:28:14.938763800Z",
     "start_time": "2024-01-17T00:28:14.874500700Z"
    },
    "colab": {
     "base_uri": "https://localhost:8080/"
    },
    "executionInfo": {
     "elapsed": 6,
     "status": "ok",
     "timestamp": 1705520382385,
     "user": {
      "displayName": "Ricardo Poleo",
      "userId": "00511248826951706342"
     },
     "user_tz": 300
    },
    "id": "5fc0c67de7f382e8",
    "outputId": "7392a2a7-c114-4f14-b03e-0d99d9fbef18"
   },
   "outputs": [
    {
     "name": "stdout",
     "output_type": "stream",
     "text": [
      "bag_of_words_matrix (final): \n",
      "[[0 0 0 1 0 0 0 0 0 1 0]\n",
      " [0 1 0 0 1 0 0 0 0 0 1]\n",
      " [1 0 1 0 0 0 0 0 1 0 0]\n",
      " [0 0 1 0 0 0 1 0 0 0 0]\n",
      " [0 0 0 0 0 1 0 1 0 1 0]]\n"
     ]
    }
   ],
   "source": [
    "print('bag_of_words_matrix (final): ')\n",
    "print(bag_of_words_matrix)"
   ]
  },
  {
   "cell_type": "markdown",
   "id": "c5683c1feb169cdb",
   "metadata": {
    "id": "c5683c1feb169cdb"
   },
   "source": [
    "# Task 2: Calculate the IDF for the words “college” and “art”."
   ]
  },
  {
   "cell_type": "code",
   "execution_count": 8,
   "id": "5b8cfbc30a39dd0b",
   "metadata": {
    "ExecuteTime": {
     "end_time": "2024-01-17T00:28:14.940761600Z",
     "start_time": "2024-01-17T00:28:14.890505Z"
    },
    "executionInfo": {
     "elapsed": 5,
     "status": "ok",
     "timestamp": 1705520382385,
     "user": {
      "displayName": "Ricardo Poleo",
      "userId": "00511248826951706342"
     },
     "user_tz": 300
    },
    "id": "5b8cfbc30a39dd0b"
   },
   "outputs": [],
   "source": [
    "def calculate_idf(searched_word):\n",
    "    count = 0\n",
    "    for phrase in phrases:\n",
    "        arr_phrase = phrase.split()\n",
    "        for word in arr_phrase:\n",
    "            if searched_word == word:\n",
    "                count+= 1\n",
    "\n",
    "    if count == 0:\n",
    "        print(f'We didnt find the word \"{searched_word}\" in the phrases: {phrases}.')\n",
    "        return\n",
    "\n",
    "    total_phrases = len(phrases)\n",
    "    pretty_division = total_phrases / count\n",
    "    print(f'IDF of \"{searched_word}\": {np.log10(pretty_division)}')"
   ]
  },
  {
   "cell_type": "code",
   "execution_count": 9,
   "id": "b86fd7c21abd329c",
   "metadata": {
    "ExecuteTime": {
     "end_time": "2024-01-17T00:28:14.940761600Z",
     "start_time": "2024-01-17T00:28:14.908499100Z"
    },
    "colab": {
     "base_uri": "https://localhost:8080/"
    },
    "executionInfo": {
     "elapsed": 4,
     "status": "ok",
     "timestamp": 1705520382385,
     "user": {
      "displayName": "Ricardo Poleo",
      "userId": "00511248826951706342"
     },
     "user_tz": 300
    },
    "id": "b86fd7c21abd329c",
    "outputId": "27f36530-5492-4bef-a0c6-d6e2db11fee8"
   },
   "outputs": [
    {
     "name": "stdout",
     "output_type": "stream",
     "text": [
      "IDF of \"art\": 0.3979400086720376\n"
     ]
    }
   ],
   "source": [
    "calculate_idf('art')"
   ]
  },
  {
   "cell_type": "code",
   "execution_count": 10,
   "id": "5c32e3bf9c5dc621",
   "metadata": {
    "ExecuteTime": {
     "end_time": "2024-01-17T00:28:14.992723700Z",
     "start_time": "2024-01-17T00:28:14.925539100Z"
    },
    "colab": {
     "base_uri": "https://localhost:8080/"
    },
    "executionInfo": {
     "elapsed": 4,
     "status": "ok",
     "timestamp": 1705520382386,
     "user": {
      "displayName": "Ricardo Poleo",
      "userId": "00511248826951706342"
     },
     "user_tz": 300
    },
    "id": "5c32e3bf9c5dc621",
    "outputId": "9b3b6863-3eaf-489d-f27a-6409cc03bc37"
   },
   "outputs": [
    {
     "name": "stdout",
     "output_type": "stream",
     "text": [
      "IDF of \"college\": 0.6989700043360189\n"
     ]
    }
   ],
   "source": [
    "calculate_idf('college')"
   ]
  }
 ],
 "metadata": {
  "colab": {
   "provenance": []
  },
  "kernelspec": {
   "display_name": "Python 3 (ipykernel)",
   "language": "python",
   "name": "python3"
  },
  "language_info": {
   "codemirror_mode": {
    "name": "ipython",
    "version": 3
   },
   "file_extension": ".py",
   "mimetype": "text/x-python",
   "name": "python",
   "nbconvert_exporter": "python",
   "pygments_lexer": "ipython3",
   "version": "3.9.13"
  }
 },
 "nbformat": 4,
 "nbformat_minor": 5
}
