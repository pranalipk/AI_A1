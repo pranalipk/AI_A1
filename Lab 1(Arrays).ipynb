{
 "cells": [
  {
   "cell_type": "markdown",
   "metadata": {
    "id": "6CFrDgy08ZK7"
   },
   "source": [
    "<p style=\"font-family: Arial; font-size:3em;color:black;\"> Lab 1(Arrays) </p>"
   ]
  },
  {
   "cell_type": "markdown",
   "metadata": {
    "id": "21bP7Jyt8g_G"
   },
   "source": [
    "# Installation and imports"
   ]
  },
  {
   "cell_type": "code",
   "execution_count": null,
   "metadata": {
    "id": "z7kak3v48p1O"
   },
   "outputs": [],
   "source": [
    "!pip install numpy"
   ]
  },
  {
   "cell_type": "code",
   "execution_count": null,
   "metadata": {
    "id": "I3R8EE5i8Eqp"
   },
   "outputs": [],
   "source": [
    "import numpy as np"
   ]
  },
  {
   "cell_type": "code",
   "execution_count": null,
   "metadata": {
    "id": "Q4VKDMuf8Eqq",
    "outputId": "7f5061a6-e100-4702-e92b-1f1d1fbc34a0"
   },
   "outputs": [
    {
     "name": "stdout",
     "output_type": "stream",
     "text": [
      "numpy array:  [1 2 3 5 0]\n",
      "All elements are non-zero:  False\n"
     ]
    }
   ],
   "source": [
    "# Create a numpy array with the elements \"1, 2, 3, 5, 0\", print the array and test if all of its elements are non-zero.\n",
    "arr_1 = np.array([1,2,3,5,0])\n",
    "print(\"numpy array: \", arr_1)\n",
    "\n",
    "all_no_zero = np.all(arr_1 != 0)\n",
    "print(\"All elements are non-zero: \", all_no_zero)\n"
   ]
  },
  {
   "cell_type": "code",
   "execution_count": null,
   "metadata": {
    "id": "hVOYZ2Es8Eqr",
    "outputId": "dd6fc206-72e6-4cd1-d603-d6ed6ffab1b7"
   },
   "outputs": [
    {
     "name": "stdout",
     "output_type": "stream",
     "text": [
      "numpy array:  [ 3 -1  3  7  2]\n",
      "All elements are non-zero:  True\n"
     ]
    }
   ],
   "source": [
    "# Create a numpy array with the elements \"3, -1, 3, 7, 2\", print the array and test if any of its elements is non-zero.\n",
    "arr_2 = np.array([3,-1,3,7,2])\n",
    "print(\"numpy array: \", arr_2)\n",
    "\n",
    "all_no_zero = np.all(arr_2 != 0)\n",
    "print(\"All elements are non-zero: \", all_no_zero)"
   ]
  },
  {
   "cell_type": "code",
   "execution_count": null,
   "metadata": {
    "id": "F1kzc3Cp8Eqr",
    "outputId": "8f50804a-0f1d-4a9b-e829-7cf080d64880"
   },
   "outputs": [
    {
     "name": "stdout",
     "output_type": "stream",
     "text": [
      "numpy array:  [0 0 0 0 0]\n",
      "All elements are non-zero:  False\n"
     ]
    }
   ],
   "source": [
    "# Create a numpy array with the elements \"0, 0, 0, 0\", print the array and test if any of its elements is non-zero.\n",
    "arr_3 = np.array([0,0,0,0,0])\n",
    "print(\"numpy array: \", arr_3)\n",
    "\n",
    "all_no_zero = np.all(arr_3 != 0)\n",
    "print(\"All elements are non-zero: \", all_no_zero)"
   ]
  },
  {
   "cell_type": "code",
   "execution_count": null,
   "metadata": {
    "id": "KKs91HeR8Eqs",
    "outputId": "abd69815-cb23-4c9a-c342-fcdce882382f"
   },
   "outputs": [
    {
     "name": "stdout",
     "output_type": "stream",
     "text": [
      "numpy array:  [56 -2  7]\n",
      "Amount of memory required to store it in bytes:  12\n"
     ]
    }
   ],
   "source": [
    "# Create a numpy array with the elements \"56, -2, 7\", print the array and the amount of memory required to store it.\n",
    "arr_4 = np.array([56, -2, 7])\n",
    "print(\"numpy array: \",arr_4)\n",
    "memory_require = arr_4.nbytes\n",
    "print(\"Amount of memory required to store it in bytes: \", memory_require)"
   ]
  },
  {
   "cell_type": "code",
   "execution_count": null,
   "metadata": {
    "id": "pbQk3ju48Eqs",
    "outputId": "ee307f0e-455a-4ce1-f71b-61ae80de6d54"
   },
   "outputs": [
    {
     "name": "stdout",
     "output_type": "stream",
     "text": [
      "[0 0 0 0 0 0 0 0 0 0]\n",
      "[1 1 1 1 1 1]\n",
      "[3 3 3 3 3 3 3 3 3 3 3 3]\n"
     ]
    }
   ],
   "source": [
    "# Create a numpy array with 10 zeros and print the array.\n",
    "arr_5 = np.array(10*[0])\n",
    "print(arr_5)\n",
    "# Create a numpy array with 6 ones and print the array.\n",
    "arr_6 = np.array(6*[1])\n",
    "print(arr_6)\n",
    "# Create a numpy array with 12 '3's and print the array. [3 3 3 3 3 3 3 3 3 3 3 3]\n",
    "arr_7 = np.array(12*[3])\n",
    "print(arr_7)"
   ]
  },
  {
   "cell_type": "code",
   "execution_count": null,
   "metadata": {
    "id": "o206c5K-8Eqs",
    "outputId": "111ae4aa-7af0-43db-a0ae-b14534a6f026"
   },
   "outputs": [
    {
     "name": "stdout",
     "output_type": "stream",
     "text": [
      "[ 8  9 10 11 12 13 14 15 16 17 18 19 20]\n",
      "[ 8 10 12 14 16 18 20]\n"
     ]
    }
   ],
   "source": [
    "# Create a numpy array of the integers from 8 to 20 and print the array. (make sure 20 itself is included) hint:  use \"arange\" method\n",
    "arr_8 = np.arange(8,21,1)\n",
    "print(arr_8)\n",
    "# Create a numpy array of the even integers from 8 to 20 and print the array. (make sure 20 itself is included)   hint:  use \"arange\" method\n",
    "arr_9 = np.arange(8,21,2)\n",
    "print(arr_9)"
   ]
  },
  {
   "cell_type": "code",
   "execution_count": null,
   "metadata": {
    "id": "gT5gvjiA8Eqs",
    "outputId": "131395b1-275e-4b4b-e1c0-2abfa856aa39"
   },
   "outputs": [
    {
     "name": "stdout",
     "output_type": "stream",
     "text": [
      "Mean of 100:  1.9262548110850282\n",
      "Max of 100:  3.138827506916621\n",
      "Min of 100;  0.7553979844694312\n",
      "Standard Deviation of 100:  0.5\n",
      "Mean of 1000:  1.9934429768323263\n",
      "Max of 1000:  3.4511988311462725\n",
      "Min of 1000;  0.3974926781567967\n",
      "Standard Deviation of 1000:  0.5\n",
      "Mean of 1000000:  1.9994280240151527\n",
      "Max of 1000000:  4.511925121041065\n",
      "Min of 1000000:  -0.570071249784522\n",
      "Standard Deviation of 1000000:  0.5\n",
      "1000 elements:\n",
      "Mean of 1000:  2.005881217240898\n",
      "Max of 1000:  3.5165561391585958\n",
      "Min of 1000:  0.3752971974831878\n",
      "Standard Deviation of 1000:  0.5\n",
      "5000 elements:\n",
      "Mean of 5000:  2.0010829292691312\n",
      "Max of 5000:  4.1608242430906754\n",
      "Min of 5000:  0.0979348974054739\n",
      "Standard Deviation of 5000:  0.5\n",
      "10000 elements:\n",
      "Mean of 10000:  2.005365965589817\n",
      "Max of 10000:  3.7413660538095224\n",
      "Min of 10000:  0.018026552883578573\n",
      "Standard Deviation of 10000:  0.5\n",
      "CONCLUSION\n",
      "Look at the examples above, I observed that whenever increasing the random elements, there will be a little change of mean, which can be seen as approximately equal to 2. Indeed, the Standard Deviation does not change in every case\n"
     ]
    }
   ],
   "source": [
    "# Create a numpy array consisting of 100 random elements from normal distribution with mean of 2 and std of 0.5. Print the mean, max, min and std of the array.\n",
    "mean_value_10 = 2\n",
    "std_deviation_10 = 0.5\n",
    "arr_10 = np.random.normal(mean_value_10, std_deviation_10, 100)\n",
    "mean_value = np.mean(arr_10)\n",
    "max_value_10 = np.max(arr_10)\n",
    "min_value_10 = np.min(arr_10)\n",
    "std_deviation = np.mean(arr_10)\n",
    "print(\"Mean of 100: \", mean_value)\n",
    "print(\"Max of 100: \", max_value_10)\n",
    "print(\"Min of 100; \", min_value_10)\n",
    "print(\"Standard Deviation of 100: \", std_deviation_10)\n",
    "# Create a numpy array consisting of 1000 random elements from normal distribution with mean of 2 and std of 0.5. Print the mean, max, min and std of the array.\n",
    "mean_value_10 = 2\n",
    "std_deviation_10 = 0.5\n",
    "arr_10 = np.random.normal(mean_value_10, std_deviation_10, 1000)\n",
    "mean_value = np.mean(arr_10)\n",
    "max_value_10 = np.max(arr_10)\n",
    "min_value_10 = np.min(arr_10)\n",
    "std_deviation = np.mean(arr_10)\n",
    "print(\"Mean of 1000: \", mean_value)\n",
    "print(\"Max of 1000: \", max_value_10)\n",
    "print(\"Min of 1000; \", min_value_10)\n",
    "print(\"Standard Deviation of 1000: \", std_deviation_10)\n",
    "# Create a numpy array consisting of 1000000 random elements from normal distribution with mean of 2 and std of 0.5. Print the mean, max, min and std of the array.\n",
    "mean_value_10 = 2\n",
    "std_deviation_10 = 0.5\n",
    "arr_10 = np.random.normal(mean_value_10, std_deviation_10, 1000000)\n",
    "mean_value = np.mean(arr_10)\n",
    "max_value_10 = np.max(arr_10)\n",
    "min_value_10 = np.min(arr_10)\n",
    "std_deviation = np.mean(arr_10)\n",
    "print(\"Mean of 1000000: \", mean_value)\n",
    "print(\"Max of 1000000: \", max_value_10)\n",
    "print(\"Min of 1000000: \", min_value_10)\n",
    "print(\"Standard Deviation of 1000000: \", std_deviation_10)\n",
    "# (Bonus question) Looking at the three above examples with 1000, 5000, and 10000 random elements, do you have any observations about mean and std values?\n",
    "print(\"1000 elements:\")\n",
    "mean_value_10 = 2\n",
    "std_deviation_10 = 0.5\n",
    "arr_10 = np.random.normal(mean_value_10, std_deviation_10, 1000)\n",
    "mean_value = np.mean(arr_10)\n",
    "max_value_10 = np.max(arr_10)\n",
    "min_value_10 = np.min(arr_10)\n",
    "std_deviation = np.mean(arr_10)\n",
    "print(\"Mean of 1000: \", mean_value)\n",
    "print(\"Max of 1000: \", max_value_10)\n",
    "print(\"Min of 1000: \", min_value_10)\n",
    "print(\"Standard Deviation of 1000: \", std_deviation_10)\n",
    "\n",
    "print(\"5000 elements:\")\n",
    "mean_value_10 = 2\n",
    "std_deviation_10 = 0.5\n",
    "arr_10 = np.random.normal(mean_value_10, std_deviation_10, 5000)\n",
    "mean_value = np.mean(arr_10)\n",
    "max_value_10 = np.max(arr_10)\n",
    "min_value_10 = np.min(arr_10)\n",
    "std_deviation = np.mean(arr_10)\n",
    "print(\"Mean of 5000: \", mean_value)\n",
    "print(\"Max of 5000: \", max_value_10)\n",
    "print(\"Min of 5000: \", min_value_10)\n",
    "print(\"Standard Deviation of 5000: \", std_deviation_10)\n",
    "\n",
    "print(\"10000 elements:\")\n",
    "mean_value_10 = 2\n",
    "std_deviation_10 = 0.5\n",
    "arr_10 = np.random.normal(mean_value_10, std_deviation_10, 10000)\n",
    "mean_value = np.mean(arr_10)\n",
    "max_value_10 = np.max(arr_10)\n",
    "min_value_10 = np.min(arr_10)\n",
    "std_deviation = np.mean(arr_10)\n",
    "print(\"Mean of 10000: \", mean_value)\n",
    "print(\"Max of 10000: \", max_value_10)\n",
    "print(\"Min of 10000: \", min_value_10)\n",
    "print(\"Standard Deviation of 10000: \", std_deviation_10)"
   ]
  },
  {
   "cell_type": "markdown",
   "metadata": {
    "id": "G-Qj2qAY8wYk"
   },
   "source": [
    "# CONCLUSION"
   ]
  },
  {
   "cell_type": "markdown",
   "metadata": {
    "id": "h2iYV55u9so9"
   },
   "source": [
    "Look at the examples above, I observed that whenever increasing the random elements, there will be a little change of mean, which can be seen as approximately equal to 2. Indeed, the Standard Deviation does not change in every case"
   ]
  }
 ],
 "metadata": {
  "colab": {
   "provenance": []
  },
  "kernelspec": {
   "display_name": "Python 3 (ipykernel)",
   "language": "python",
   "name": "python3"
  },
  "language_info": {
   "codemirror_mode": {
    "name": "ipython",
    "version": 3
   },
   "file_extension": ".py",
   "mimetype": "text/x-python",
   "name": "python",
   "nbconvert_exporter": "python",
   "pygments_lexer": "ipython3",
   "version": "3.9.13"
  }
 },
 "nbformat": 4,
 "nbformat_minor": 1
}
