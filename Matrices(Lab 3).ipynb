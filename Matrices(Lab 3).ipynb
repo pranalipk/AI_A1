{
 "cells": [
  {
   "cell_type": "markdown",
   "metadata": {
    "id": "IEnIXQf3hMWu"
   },
   "source": [
    "<p style=\"font-family: Arial; font-size:3em;color:black;\"> Matrices(Lab 3) </p>"
   ]
  },
  {
   "cell_type": "code",
   "execution_count": 1,
   "metadata": {
    "id": "yByDmF4GBTSI"
   },
   "outputs": [
    {
     "name": "stdout",
     "output_type": "stream",
     "text": [
      "Requirement already satisfied: numpy in c:\\users\\prana\\anaconda3\\lib\\site-packages (1.21.5)\n"
     ]
    }
   ],
   "source": [
    "!pip install numpy"
   ]
  },
  {
   "cell_type": "code",
   "execution_count": null,
   "metadata": {
    "id": "zWGRc5Y7hMWx"
   },
   "outputs": [],
   "source": [
    "import numpy as np\n",
    "from numpy.linalg import inv\n",
    "from numpy.linalg import det"
   ]
  },
  {
   "cell_type": "code",
   "execution_count": null,
   "metadata": {
    "id": "hOziToES1ZuP"
   },
   "outputs": [],
   "source": [
    "import numpy as np\n",
    "\n",
    "# 1) Defining matrix A\n",
    "A = np.array([[5, 2, 3],\n",
    "              [6, 1, 3],\n",
    "              [2, 4, 1]])\n",
    "\n",
    "# Defining matrix B using slicing to get the top left 2x2 part of A\n",
    "B = A[:2, :2]\n",
    "\n",
    "# Defining matrix C using slicing to get the bottom right 2x2 part of A\n",
    "C = A[1:, 1:]"
   ]
  },
  {
   "cell_type": "code",
   "execution_count": null,
   "metadata": {
    "colab": {
     "base_uri": "https://localhost:8080/"
    },
    "id": "33IY_4cp1rBo",
    "outputId": "c6b20610-5b0e-4f04-8ca7-009d88bcc81f"
   },
   "outputs": [
    {
     "data": {
      "text/plain": [
       "(array([[5, 2, 3],\n",
       "        [6, 1, 3],\n",
       "        [2, 4, 1]]),\n",
       " array([[5, 2],\n",
       "        [6, 1]]),\n",
       " array([[1, 3],\n",
       "        [4, 1]]))"
      ]
     },
     "execution_count": 4,
     "metadata": {},
     "output_type": "execute_result"
    }
   ],
   "source": [
    "A, B, C"
   ]
  },
  {
   "cell_type": "code",
   "execution_count": null,
   "metadata": {
    "colab": {
     "base_uri": "https://localhost:8080/"
    },
    "id": "f09W5QR-124V",
    "outputId": "99d304a6-f15d-4a70-f9ab-9f0bba636330"
   },
   "outputs": [
    {
     "name": "stdout",
     "output_type": "stream",
     "text": [
      "[[ 4 -7  4]\n",
      " [ 5  6 -1]\n",
      " [-4  2  5]]\n"
     ]
    }
   ],
   "source": [
    "# 2) Defining matrix D\n",
    "D = np.array([[4, -7, 4],\n",
    "              [5, 6, -1],\n",
    "              [-4, 2, 5]])\n",
    "print(D)"
   ]
  },
  {
   "cell_type": "code",
   "execution_count": null,
   "metadata": {
    "colab": {
     "base_uri": "https://localhost:8080/"
    },
    "id": "KDDsqjpi3S2R",
    "outputId": "92c95a99-f152-46ec-9c7c-9a6dcbd432fc"
   },
   "outputs": [
    {
     "name": "stdout",
     "output_type": "stream",
     "text": [
      "AD is: [[ 18 -17  33]\n",
      " [ 17 -30  38]\n",
      " [ 24  12   9]]\n",
      "DA is: [[-14  17  -5]\n",
      " [ 59  12  32]\n",
      " [  2  14  -1]]\n",
      "AD and DA are not equal.\n"
     ]
    }
   ],
   "source": [
    "# Calculating the matrix product AD\n",
    "AD = np.matmul(A, D)\n",
    "print(\"AD is:\", AD)\n",
    "\n",
    "# Calculate the matrix product DA\n",
    "DA = np.matmul(D, A)\n",
    "print(\"DA is:\", DA)\n",
    "\n",
    "# Check if AD and DA are equal\n",
    "are_equal = np.array_equal(AD, DA)\n",
    "\n",
    "# Show an answer if they are equal or not\n",
    "equality_statement = \"AD and DA are equal.\" if are_equal else \"AD and DA are not equal.\"\n",
    "\n",
    "print(equality_statement)"
   ]
  },
  {
   "cell_type": "markdown",
   "metadata": {
    "id": "S7cpYhOKym1g"
   },
   "source": [
    "## **Manually calculating the determinant of B:**\n",
    "\n",
    "$\\text{det}(B) = 5 \\cdot 1 - 2 \\cdot 6 = 5 - 12 = -7$\n"
   ]
  },
  {
   "cell_type": "markdown",
   "metadata": {
    "id": "4K8qZBuy3LbV"
   },
   "source": [
    "# **Manually Calculating the inverse of B:**"
   ]
  },
  {
   "cell_type": "markdown",
   "metadata": {
    "id": "TbvvVUbtzRfj"
   },
   "source": [
    "$B^{-1}$ = $\\frac{1}{-7}$ \\begin{bmatrix} 1 & -2 \\\\ -6 & 5 \\end{bmatrix}\n",
    "      = \\begin{bmatrix} -1/7 & 2/7 \\\\ 6/7 & -5/7 \\end{bmatrix}\n",
    "      = \\begin{bmatrix} -0.14285714 & 0.28571429 \\\\ 0.85714286 & -0.71428571 \\end{bmatrix}"
   ]
  },
  {
   "cell_type": "code",
   "execution_count": null,
   "metadata": {
    "colab": {
     "base_uri": "https://localhost:8080/"
    },
    "id": "QQoOfG_q4ZH2",
    "outputId": "2a4b9d8c-eb1c-4ff1-e0ca-b81f788b56c3"
   },
   "outputs": [
    {
     "name": "stdout",
     "output_type": "stream",
     "text": [
      "-6.999999999999999 [[-0.14285714  0.28571429]\n",
      " [ 0.85714286 -0.71428571]]\n"
     ]
    }
   ],
   "source": [
    "# Using numpy to calculate the determinant of B\n",
    "det_B = np.linalg.det(B)\n",
    "\n",
    "# Using numpy to calculate the inverse of B\n",
    "inv_B = np.linalg.inv(B)\n",
    "\n",
    "print(det_B, inv_B)"
   ]
  },
  {
   "cell_type": "code",
   "execution_count": null,
   "metadata": {
    "colab": {
     "base_uri": "https://localhost:8080/"
    },
    "id": "4GKjRkKQ5Lvr",
    "outputId": "de737591-5253-42d5-b629-7a01cd49c68d"
   },
   "outputs": [
    {
     "name": "stdout",
     "output_type": "stream",
     "text": [
      "D * D^-1: [[ 1.00000000e+00  1.11022302e-16  0.00000000e+00]\n",
      " [ 6.93889390e-17  1.00000000e+00 -5.55111512e-17]\n",
      " [-1.38777878e-17 -8.32667268e-17  1.00000000e+00]]\n",
      "D^-1 * D: [[ 1.00000000e+00  6.93889390e-17  6.93889390e-18]\n",
      " [ 2.77555756e-17  1.00000000e+00 -2.08166817e-17]\n",
      " [ 0.00000000e+00  0.00000000e+00  1.00000000e+00]]\n",
      "Both D * D^-1 and D^-1 * D are identity matrices.\n"
     ]
    }
   ],
   "source": [
    "# Using numpy to calculate the inverse of D\n",
    "inv_D = np.linalg.inv(D)\n",
    "\n",
    "# Calculating D times the inverse of D\n",
    "D_invD = np.matmul(D, inv_D)\n",
    "\n",
    "# Calculating the inverse of D times D\n",
    "invD_D = np.matmul(inv_D, D)\n",
    "\n",
    "#Showing the results\n",
    "print(\"D * D^-1:\", D_invD)\n",
    "print(\"D^-1 * D:\", invD_D)\n",
    "\n",
    "# Checking if both products are identity matrices\n",
    "is_D_invD_identity = np.allclose(D_invD, np.eye(3))\n",
    "is_invD_D_identity = np.allclose(invD_D, np.eye(3))\n",
    "\n",
    "confirmation_message = \"Both D * D^-1 and D^-1 * D are identity matrices.\" if is_D_invD_identity and is_invD_D_identity else \"One of the products is not an identity matrix.\"\n",
    "\n",
    "print(confirmation_message)"
   ]
  },
  {
   "cell_type": "markdown",
   "metadata": {
    "id": "S1huglYo5XhW"
   },
   "source": [
    "# The observation here is that when a matrix is multiplied by its inverse, the result is an identity matrix.\n"
   ]
  }
 ],
 "metadata": {
  "colab": {
   "gpuType": "T4",
   "provenance": []
  },
  "kernelspec": {
   "display_name": "Python 3 (ipykernel)",
   "language": "python",
   "name": "python3"
  },
  "language_info": {
   "codemirror_mode": {
    "name": "ipython",
    "version": 3
   },
   "file_extension": ".py",
   "mimetype": "text/x-python",
   "name": "python",
   "nbconvert_exporter": "python",
   "pygments_lexer": "ipython3",
   "version": "3.9.13"
  }
 },
 "nbformat": 4,
 "nbformat_minor": 1
}
