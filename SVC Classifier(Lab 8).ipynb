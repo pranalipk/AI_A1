{
 "cells": [
  {
   "cell_type": "markdown",
   "metadata": {
    "id": "tk46zzHOAGAv"
   },
   "source": [
    "<p style=\"font-family: Arial; font-size:3em;color:black;\"> Lab Exercise 8</p>"
   ]
  },
  {
   "cell_type": "code",
   "execution_count": null,
   "metadata": {
    "id": "o-kw9vEiAGAz"
   },
   "outputs": [],
   "source": [
    "import numpy as np\n",
    "import matplotlib.pyplot as plt\n",
    "from sklearn import datasets\n",
    "from sklearn.metrics import classification_report"
   ]
  },
  {
   "cell_type": "code",
   "execution_count": null,
   "metadata": {
    "id": "vG45dnFpAGA1",
    "outputId": "c27212ea-263b-46f6-b403-134d7cefe2d9",
    "scrolled": false
   },
   "outputs": [
    {
     "name": "stdout",
     "output_type": "stream",
     "text": [
      "iris dataset [[5.1 3.5 1.4 0.2]\n",
      " [4.9 3.  1.4 0.2]\n",
      " [4.7 3.2 1.3 0.2]\n",
      " [4.6 3.1 1.5 0.2]\n",
      " [5.  3.6 1.4 0.2]\n",
      " [5.4 3.9 1.7 0.4]\n",
      " [4.6 3.4 1.4 0.3]\n",
      " [5.  3.4 1.5 0.2]\n",
      " [4.4 2.9 1.4 0.2]\n",
      " [4.9 3.1 1.5 0.1]]\n",
      "iris target [0 0 0 0 0 0 0 0 0 0]\n"
     ]
    }
   ],
   "source": [
    "# Import the built-in iris dataset to work with\n",
    "iris = datasets.load_iris() # the dataset consists of 3 different types of irises' (Setosa, Versicolour, and Virginica) petal and sepal length\n",
    "print(\"iris dataset\",iris.data[:10,:])\n",
    "X = iris.data[:, :2] # We only want to use the first two features (Sepal Length, Sepal Width)\n",
    "y = iris.target # corresponding to 'setosa', 'versicolor', 'virginica\n",
    "print(\"iris target\",y[:10,])"
   ]
  },
  {
   "cell_type": "code",
   "execution_count": null,
   "metadata": {
    "id": "WffxROJcAGA3"
   },
   "outputs": [],
   "source": [
    "# Develop a linear Support Vector Machine to classify the irises\n",
    "# Use GridSearchCV to optimize the model's hyperparameters (C, gamma, kernel)\n",
    "# Compare the accuracies of the above two models"
   ]
  },
  {
   "cell_type": "code",
   "execution_count": null,
   "metadata": {
    "id": "I2mUSzKvAGA3"
   },
   "outputs": [],
   "source": [
    "from sklearn.model_selection import train_test_split\n",
    "from sklearn.model_selection import GridSearchCV\n",
    "from sklearn.svm import SVC\n",
    "from sklearn.metrics import accuracy_score"
   ]
  },
  {
   "cell_type": "code",
   "execution_count": null,
   "metadata": {
    "id": "43VPud0IAGA4",
    "outputId": "fa65d212-eb91-489d-ca05-407d774e67e2"
   },
   "outputs": [
    {
     "name": "stdout",
     "output_type": "stream",
     "text": [
      "Linear SVM Accuracy:  0.8\n",
      "Classification Report: \n",
      "               precision    recall  f1-score   support\n",
      "\n",
      "           0       1.00      1.00      1.00        19\n",
      "           1       0.70      0.54      0.61        13\n",
      "           2       0.62      0.77      0.69        13\n",
      "\n",
      "    accuracy                           0.80        45\n",
      "   macro avg       0.78      0.77      0.77        45\n",
      "weighted avg       0.81      0.80      0.80        45\n",
      "\n"
     ]
    }
   ],
   "source": [
    "X_train, X_test, y_train, y_test = train_test_split(X, y, test_size=0.3, random_state=42)\n",
    "\n",
    "linear_svm_model = SVC(kernel='linear')\n",
    "linear_svm_model.fit(X_train,y_train)\n",
    "y_pred_lin = linear_svm_model.predict(X_test)\n",
    "\n",
    "linear_svm_accuaracy = accuracy_score(y_test, y_pred_lin)\n",
    "lin_report = classification_report(y_test, y_pred_lin)\n",
    "\n",
    "print('Linear SVM Accuracy: ', linear_svm_accuaracy)\n",
    "print('Classification Report: \\n', lin_report)"
   ]
  },
  {
   "cell_type": "code",
   "execution_count": null,
   "metadata": {
    "id": "1cxT9pXMAGA4",
    "outputId": "438d3bd1-0469-43e4-859d-1ba3f8247e72"
   },
   "outputs": [
    {
     "name": "stdout",
     "output_type": "stream",
     "text": [
      "Fitting 5 folds for each of 40 candidates, totalling 200 fits\n",
      "              precision    recall  f1-score   support\n",
      "\n",
      "           0       1.00      1.00      1.00        19\n",
      "           1       0.73      0.62      0.67        13\n",
      "           2       0.67      0.77      0.71        13\n",
      "\n",
      "    accuracy                           0.82        45\n",
      "   macro avg       0.80      0.79      0.79        45\n",
      "weighted avg       0.82      0.82      0.82        45\n",
      "\n",
      "The Linear SVM model obtained an accuracy of: 0.8\n",
      "The Linear SVM model with hyperparameter tuning: 0.8222222222222222\n",
      "Best Hyperparameters: {'C': 0.1, 'gamma': 'auto', 'kernel': 'rbf'}\n"
     ]
    }
   ],
   "source": [
    "param_grid = {\n",
    "    'C': [0.1,1,10,100,1000],\n",
    "    'kernel': ['poly','linear','rbf', 'sigmoid'],\n",
    "    'gamma': ['auto','scale']\n",
    "}\n",
    "\n",
    "optimized_svm = SVC()\n",
    "grid_search = GridSearchCV(estimator=optimized_svm, param_grid=param_grid, cv = 5, verbose=1)\n",
    "grid_search.fit(X_train, y_train)\n",
    "\n",
    "best_params = grid_search.best_params_\n",
    "best_svm_model = grid_search.best_estimator_\n",
    "y_pred = best_svm_model.predict(X_test)\n",
    "\n",
    "best_svm_accuracy = accuracy_score(y_test, y_pred)\n",
    "report = classification_report(y_test, y_pred)\n",
    "\n",
    "print(report)\n",
    "\n",
    "print(f'The Linear SVM model obtained an accuracy of: {linear_svm_accuaracy}\\nThe Linear SVM model with hyperparameter tuning: {best_svm_accuracy}\\nBest Hyperparameters: {best_params}')"
   ]
  }
 ],
 "metadata": {
  "colab": {
   "provenance": []
  },
  "kernelspec": {
   "display_name": "Python 3 (ipykernel)",
   "language": "python",
   "name": "python3"
  },
  "language_info": {
   "codemirror_mode": {
    "name": "ipython",
    "version": 3
   },
   "file_extension": ".py",
   "mimetype": "text/x-python",
   "name": "python",
   "nbconvert_exporter": "python",
   "pygments_lexer": "ipython3",
   "version": "3.9.13"
  }
 },
 "nbformat": 4,
 "nbformat_minor": 1
}
